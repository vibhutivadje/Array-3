{
 "cells": [
  {
   "cell_type": "markdown",
   "metadata": {},
   "source": [
    "Given an array, rotate the array to the right by k steps, where k is non-negative.\n",
    "\n",
    "Follow up:\n",
    "\n",
    "Try to come up as many solutions as you can, there are at least 3 different ways to solve this problem.\n",
    "Could you do it in-place with O(1) extra space?\n"
   ]
  },
  {
   "cell_type": "markdown",
   "metadata": {},
   "source": [
    "Example 1:\n",
    "    \n",
    "Input: nums = [1,2,3,4,5,6,7], k = 3\n",
    "Output: [5,6,7,1,2,3,4]\n",
    "Explanation:\n",
    "rotate 1 steps to the right: [7,1,2,3,4,5,6]\n",
    "rotate 2 steps to the right: [6,7,1,2,3,4,5]\n",
    "rotate 3 steps to the right: [5,6,7,1,2,3,4]"
   ]
  },
  {
   "cell_type": "code",
   "execution_count": 5,
   "metadata": {},
   "outputs": [
    {
     "data": {
      "text/plain": [
       "[5, 6, 7, 1, 2, 3, 4]"
      ]
     },
     "execution_count": 5,
     "metadata": {},
     "output_type": "execute_result"
    }
   ],
   "source": [
    "def rotate(nums, k):\n",
    "    \n",
    "    #base condition:\n",
    "    if not k or len(nums)==0:\n",
    "        return []\n",
    "    \n",
    "    #set the k to avoid extra iterations\n",
    "    k = k%len(nums)\n",
    "    \n",
    "    reverse(nums, 0, len(nums)-1)\n",
    "    reverse(nums, 0, k-1)\n",
    "    reverse(nums, k, len(nums)-1)\n",
    "    \n",
    "    return nums\n",
    "\n",
    "def reverse(nums, start, end):\n",
    "    while(start<end): #no need to use <=\n",
    "        temp = nums[start]\n",
    "        nums[start] = nums[end]\n",
    "        nums[end] = temp\n",
    "        start+=1\n",
    "        end-=1\n",
    "    return nums\n",
    "\n",
    "rotate(nums = [1,2,3,4,5,6,7], k=3)\n",
    "#Time Complexity: O(n)\n",
    "#Spcae Complexity: O(1)"
   ]
  },
  {
   "cell_type": "markdown",
   "metadata": {},
   "source": [
    "# - Class Solution:"
   ]
  },
  {
   "cell_type": "code",
   "execution_count": 10,
   "metadata": {},
   "outputs": [
    {
     "name": "stdout",
     "output_type": "stream",
     "text": [
      "[5, 6, 7, 1, 2, 3, 4]\n"
     ]
    }
   ],
   "source": [
    "class Solution:\n",
    "    def reverse(self, nums, start, end):\n",
    "        while(start<end): #no need to use <=\n",
    "            temp = nums[start]\n",
    "            nums[start] = nums[end]\n",
    "            nums[end] = temp\n",
    "            start+=1\n",
    "            end-=1\n",
    "        return nums\n",
    "    \n",
    "    def rotate(self, nums, k):\n",
    "        \"\"\"\n",
    "        Do not return anything, modify nums in-place instead.\n",
    "        \"\"\"\n",
    "        #base condition:\n",
    "        if not k or len(nums)==0:\n",
    "            return []\n",
    "    \n",
    "        #set the k to avoid extra iterations\n",
    "        k = k%len(nums)\n",
    "    \n",
    "        self.reverse(nums, 0, len(nums)-1)\n",
    "        self.reverse(nums, 0, k-1)\n",
    "        self.reverse(nums, k, len(nums)-1)\n",
    "    \n",
    "        return nums\n",
    "\n",
    "obj = Solution()\n",
    "print(obj.rotate(nums = [1,2,3,4,5,6,7], k=3))"
   ]
  },
  {
   "cell_type": "code",
   "execution_count": null,
   "metadata": {},
   "outputs": [],
   "source": []
  }
 ],
 "metadata": {
  "kernelspec": {
   "display_name": "Python 3",
   "language": "python",
   "name": "python3"
  },
  "language_info": {
   "codemirror_mode": {
    "name": "ipython",
    "version": 3
   },
   "file_extension": ".py",
   "mimetype": "text/x-python",
   "name": "python",
   "nbconvert_exporter": "python",
   "pygments_lexer": "ipython3",
   "version": "3.7.7"
  }
 },
 "nbformat": 4,
 "nbformat_minor": 4
}
