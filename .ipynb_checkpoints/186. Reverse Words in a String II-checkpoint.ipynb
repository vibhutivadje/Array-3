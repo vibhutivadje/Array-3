{
 "cells": [
  {
   "cell_type": "markdown",
   "metadata": {},
   "source": [
    "Given an input string , reverse the string word by word. \n",
    "\n",
    "Example:\n",
    "    Input:  [\"t\",\"h\",\"e\",\" \",\"s\",\"k\",\"y\",\" \",\"i\",\"s\",\" \",\"b\",\"l\",\"u\",\"e\"]\n",
    "    Output: [\"b\",\"l\",\"u\",\"e\",\" \",\"i\",\"s\",\" \",\"s\",\"k\",\"y\",\" \",\"t\",\"h\",\"e\"]\n"
   ]
  },
  {
   "cell_type": "code",
   "execution_count": 6,
   "metadata": {},
   "outputs": [
    {
     "data": {
      "text/plain": [
       "['b', 'l', 'u', 'e', ' ', 'i', 's', ' ', 's', 'k', 'y', ' ', 't', 'h', 'e']"
      ]
     },
     "execution_count": 6,
     "metadata": {},
     "output_type": "execute_result"
    }
   ],
   "source": [
    "def rotate(s):\n",
    "    \n",
    "    #base condition:\n",
    "    if not s or len(s)==0:\n",
    "        return []\n",
    "    \n",
    "    #set the k to avoid extra iterations\n",
    "#     k = k%len(s)\n",
    "    \n",
    "    reverse(s, 0, len(s)-1)\n",
    "    \n",
    "    reverse_each_word(s)\n",
    "    return s\n",
    "\n",
    "def reverse_each_word(s):\n",
    "    n = len(s)\n",
    "    start = end = 0\n",
    "        \n",
    "    while start < n:\n",
    "        # go to the end of the word\n",
    "        while end < n and s[end] != ' ':\n",
    "            end += 1\n",
    "        # reverse the word\n",
    "        reverse(s, start, end - 1)\n",
    "            # move to the next word\n",
    "        start = end + 1\n",
    "        end += 1\n",
    "    return s\n",
    "\n",
    "def reverse(s, start, end):\n",
    "    while(start<end): #no need to use <=\n",
    "        temp = s[start]\n",
    "        s[start] = s[end]\n",
    "        s[end] = temp\n",
    "        start+=1\n",
    "        end-=1\n",
    "    return s\n",
    "\n",
    "rotate(s= [\"t\",\"h\",\"e\",\" \",\"s\",\"k\",\"y\",\" \",\"i\",\"s\",\" \",\"b\",\"l\",\"u\",\"e\"])\n",
    "\n",
    "#Time Complexity: O(n)\n",
    "#Space Complexity: O(1)"
   ]
  },
  {
   "cell_type": "code",
   "execution_count": null,
   "metadata": {},
   "outputs": [],
   "source": []
  }
 ],
 "metadata": {
  "kernelspec": {
   "display_name": "Python 3",
   "language": "python",
   "name": "python3"
  },
  "language_info": {
   "codemirror_mode": {
    "name": "ipython",
    "version": 3
   },
   "file_extension": ".py",
   "mimetype": "text/x-python",
   "name": "python",
   "nbconvert_exporter": "python",
   "pygments_lexer": "ipython3",
   "version": "3.7.7"
  }
 },
 "nbformat": 4,
 "nbformat_minor": 4
}
